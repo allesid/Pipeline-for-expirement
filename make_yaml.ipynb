{
 "cells": [
  {
   "cell_type": "code",
   "execution_count": 3,
   "metadata": {},
   "outputs": [
    {
     "name": "stdout",
     "output_type": "stream",
     "text": [
      "{'args': 'args.yaml', 'augmentation': 'trans01', 'dataset_conf': 'dataset.yaml', 'loss_conf': 'CrossEntropyLoss', 'loss_param': {}, 'model_conf': 'model.yaml', 'optimizer_conf': 'Adam', 'optimizer_param': {'lr': 0.001}, 'scheduler_conf': 'StepLR', 'scheduler_param': {'gamma': 0.1, 'step_size': 7}, 'seed': 123456789}\n"
     ]
    }
   ],
   "source": [
    "import yaml\n",
    "\n",
    "output_file = \"./configs/config002.yaml\"\n",
    "\n",
    "# file_content = {\n",
    "#     \"dataset_conf\": \"dataset.yaml\",\n",
    "#     # {\"loss\":\"CrossEntropyLoss\"}, {\"param\": \"CrossEntropyLoss\"}],\n",
    "#     \"loss_conf\": \"loss.yaml\",\n",
    "#     \"optimizer_conf\": \"optimizer.yaml\",\n",
    "#     \"model_conf\": \"model.yaml\"\n",
    "# }\n",
    "with open(output_file) as fh:\n",
    "    config = yaml.load(fh, Loader=yaml.FullLoader)\n",
    "\n",
    "# with open(output_file, 'w') as f:\n",
    "#     documents = yaml.dump(file_content, f)\n",
    "\n",
    "print(config)\n",
    "\n",
    "# config[\"loss_conf\"] = \"torch.nn.CrossEntropyLoss\"\n",
    "# config[\"loss_param\"] = {}\n",
    "# config[\"optimizer_conf\"] = \"torch.optim.Adam\"\n",
    "# config[\"optimizer_param\"] = {\"lr\": 1e-3}\n",
    "# config[\"scheduler_conf\"] = \"torch.optim.lr_scheduler.StepLR\"\n",
    "# config[\"scheduler_param\"] = {\"step_size\": 7, \"gamma\": 0.1}\n",
    "config[\"model_conf\"] = \"resnext50_32x4d_1Line\"\n",
    "config[\"model_param\"] = {\"pretrained\": True}\n",
    "\n",
    "output_file = \"./configs/config003.yaml\"\n",
    "with open(output_file, 'w') as f:\n",
    "    documents = yaml.dump(config, f)\n"
   ]
  },
  {
   "cell_type": "code",
   "execution_count": 2,
   "metadata": {},
   "outputs": [
    {
     "name": "stdout",
     "output_type": "stream",
     "text": [
      "{'dataset_conf': 'dataset.yaml', 'loss_conf': {'kind': 'adam', 'param1': 'CrossEntropyLoss', 'param2': 'Cr'}, 'model_conf': {'resnet18': {'param1': 'a', 'param2': 'b'}}, 'optimizer_conf': 'optimizer.yaml'}\n",
      "dataset_conf: dataset.yaml\n",
      "loss_conf:\n",
      "  kind: adam\n",
      "  param1: CrossEntropyLoss\n",
      "  param2: Cr\n",
      "model_conf:\n",
      "  resnet18:\n",
      "    param1: a\n",
      "    param2: b\n",
      "optimizer_conf: optimizer.yaml\n",
      "\n",
      "adam dict_items([('param1', 'CrossEntropyLoss'), ('param2', 'Cr')])\n"
     ]
    }
   ],
   "source": [
    "def make_loss(kind=\"c\", **kwargs):\n",
    "    if kind == \"adam\":\n",
    "        return print(kind, kwargs.items())\n",
    "    if kind == \"unet\":\n",
    "        return Unet(**kwargs)\n",
    "    raise ValueError(f\"Unknown network kind {kind}\")\n",
    "\n",
    "\n",
    "with open(output_file) as fh:\n",
    "    config = yaml.load(fh, Loader=yaml.FullLoader)\n",
    "print(config)\n",
    "sorted_data = yaml.dump(config)\n",
    "print(sorted_data)\n",
    "\n",
    "loss1 = make_loss(**config[\"loss_conf\"])\n"
   ]
  },
  {
   "cell_type": "code",
   "execution_count": 3,
   "metadata": {},
   "outputs": [],
   "source": [
    "output_file = \"./configs/config002.yaml\"\n",
    "\n",
    "# file_content = {\n",
    "#     \"dataset_conf\": \"dataset.yaml\",\n",
    "#     # {\"loss\":\"CrossEntropyLoss\"}, {\"param\": \"CrossEntropyLoss\"}],\n",
    "#     \"loss_conf\": \"loss.yaml\",\n",
    "#     \"optimizer_conf\": \"optimizer.yaml\",\n",
    "#     \"model_conf\": \"model.yaml\"\n",
    "# }\n",
    "\n",
    "file_content = {\n",
    "    \"dataset_conf\": \"dataset.yaml\",\n",
    "    # {\"loss\":\"CrossEntropyLoss\"}, {\"param\": \"CrossEntropyLoss\"}],\n",
    "    \"loss_conf\": {\"kind\":\"adam\", \"param1\": \"CrossEntropyLoss\", \"param2\": \"Cr\"},\n",
    "    \"optimizer_conf\": \"optimizer.yaml\",\n",
    "    \"model_conf\": {\"resnet18\": {\"param1\": \"a\", \"param2\": \"b\"}}\n",
    "}\n",
    "\n",
    "with open(output_file, 'w') as f:\n",
    "    documents = yaml.dump(file_content, f)\n"
   ]
  },
  {
   "cell_type": "code",
   "execution_count": 15,
   "metadata": {},
   "outputs": [],
   "source": [
    "# file_content = {\n",
    "#     \"func\": make_loss,\n",
    "#     \"params\":{\"param1\": {\"kind\":\"adam\", \"param1\": \"CrossEntropyLoss\", \"param2\": \"Cr\"},\n",
    "#     \"param2\": {\"kind\":\"adam2\", \"param12\": \"CrossEntropyLoss2\", \"param22\": \"Cr2\"},\n",
    "#     \"param3\": {\"kind\":\"adam3\", \"param13\": \"CrossEntropyLoss3\", \"param23\": \"Cr3\"}}\n",
    "# }\n",
    "file_content = {\n",
    "    \"func\": make_loss,\n",
    "    \"params\":[{\"kind\":\"adam\", \"param1\": \"CrossEntropyLoss\", \"param2\": \"Cr\"},\n",
    "    {\"kind\":\"adam2\", \"param12\": \"CrossEntropyLoss2\", \"param22\": \"Cr2\"},\n",
    "    {\"kind\":\"adam3\", \"param13\": \"CrossEntropyLoss3\", \"param23\": \"Cr3\"}]\n",
    "}\n",
    "with open('output_file.yaml', 'w') as f:\n",
    "    documents = yaml.dump(file_content, f)\n"
   ]
  },
  {
   "cell_type": "code",
   "execution_count": 16,
   "metadata": {},
   "outputs": [],
   "source": [
    "with open('output_file.yaml') as fh:\n",
    "    ml = yaml.load(fh, Loader=yaml.FullLoader)"
   ]
  },
  {
   "cell_type": "code",
   "execution_count": 17,
   "metadata": {},
   "outputs": [
    {
     "data": {
      "text/plain": [
       "{'func': <function __main__.make_loss(kind='c', **kwargs)>,\n",
       " 'params': [{'kind': 'adam', 'param1': 'CrossEntropyLoss', 'param2': 'Cr'},\n",
       "  {'kind': 'adam2', 'param12': 'CrossEntropyLoss2', 'param22': 'Cr2'},\n",
       "  {'kind': 'adam3', 'param13': 'CrossEntropyLoss3', 'param23': 'Cr3'}]}"
      ]
     },
     "execution_count": 17,
     "metadata": {},
     "output_type": "execute_result"
    }
   ],
   "source": [
    "ml"
   ]
  },
  {
   "cell_type": "code",
   "execution_count": 18,
   "metadata": {},
   "outputs": [
    {
     "name": "stdout",
     "output_type": "stream",
     "text": [
      "adam dict_items([('param1', 'CrossEntropyLoss'), ('param2', 'Cr')])\n"
     ]
    }
   ],
   "source": [
    "ml[\"func\"](**ml[\"params\"][0])"
   ]
  },
  {
   "cell_type": "code",
   "execution_count": 1,
   "metadata": {},
   "outputs": [],
   "source": [
    "import yaml\n",
    "\n",
    "file_content = {\n",
    "    \"num_epochs\": 1000,\n",
    "    \"step\": 10,\n",
    "    \"batch_size\": 6,\n",
    "    \"savnam\": \"save_model.pth\",\n",
    "    \"losscsv\": \"lossdf.csv\",\n",
    "    \"class_names\": ['liver', 'liver_high', 'liver_low', 'no_liver'],\n",
    "    \"data_path\": \"/home/alex/GitLabProjects/research/\",\n",
    "    \"savnambestmod\": \"save_best_model.pth\"\n",
    "}\n",
    "with open('args.yaml', 'w') as f:\n",
    "    documents = yaml.dump(file_content, f)\n"
   ]
  },
  {
   "cell_type": "code",
   "execution_count": 3,
   "metadata": {},
   "outputs": [
    {
     "data": {
      "text/plain": [
       "{'batch_size': 6,\n",
       " 'class_names': ['liver', 'liver_high', 'liver_low', 'no_liver'],\n",
       " 'data_path': '/home/alex/GitLabProjects/research/',\n",
       " 'losscsv': 'lossdf.csv',\n",
       " 'num_epochs': 1000,\n",
       " 'savnam': 'save_model.pth',\n",
       " 'savnambestmod': 'save_best_model.pth',\n",
       " 'step': 10}"
      ]
     },
     "execution_count": 3,
     "metadata": {},
     "output_type": "execute_result"
    }
   ],
   "source": [
    "with open('args.yaml') as fh:\n",
    "    ml = yaml.load(fh, Loader=yaml.FullLoader)\n",
    "ml"
   ]
  },
  {
   "cell_type": "code",
   "execution_count": 5,
   "metadata": {},
   "outputs": [
    {
     "data": {
      "text/plain": [
       "'α'"
      ]
     },
     "execution_count": 5,
     "metadata": {},
     "output_type": "execute_result"
    }
   ],
   "source": [
    "\"\\u03b1\"\n"
   ]
  },
  {
   "cell_type": "code",
   "execution_count": null,
   "metadata": {},
   "outputs": [],
   "source": []
  }
 ],
 "metadata": {
  "interpreter": {
   "hash": "36cf16204b8548560b1c020c4e8fb5b57f0e4c58016f52f2d4be01e192833930"
  },
  "kernelspec": {
   "display_name": "Python 3 (ipykernel)",
   "language": "python",
   "name": "python3"
  },
  "language_info": {
   "codemirror_mode": {
    "name": "ipython",
    "version": 3
   },
   "file_extension": ".py",
   "mimetype": "text/x-python",
   "name": "python",
   "nbconvert_exporter": "python",
   "pygments_lexer": "ipython3",
   "version": "3.9.6"
  }
 },
 "nbformat": 4,
 "nbformat_minor": 4
}

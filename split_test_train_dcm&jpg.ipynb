{
 "cells": [
  {
   "cell_type": "code",
   "execution_count": 1,
   "metadata": {},
   "outputs": [
    {
     "name": "stdout",
     "output_type": "stream",
     "text": [
      "['disease_liver', 'disease_liver_high', 'disease_liver_low', 'liver', 'liver_high', 'liver_low', 'no_liver']\n",
      "disease_liver\n",
      "File 1-20 (2).jpg missed\n",
      "File 1-031 (5).jpg missed\n",
      "File 1-032.jpg missed\n",
      "disease_liver_high\n",
      "File 1-006.jpg missed\n",
      "File 1-23.jpg missed\n",
      "File 1-031.jpg missed\n",
      "File 1-116 (2).jpg missed\n",
      "disease_liver_low\n",
      "File 01-51.jpg missed\n",
      "liver\n",
      "File 1-21 (5).jpg missed\n",
      "liver_high\n",
      "liver_low\n",
      "no_liver\n",
      "File 1-315.jpg missed\n"
     ]
    }
   ],
   "source": [
    "#  \n",
    "\n",
    "import shutil\n",
    "import os\n",
    "\n",
    "data_path = \"/run/media/alex/PartOfDiskWithWin7/LEARN/Longevity/Liver/datasets/wiki.cancerimagingarchive.net/Crowds Cure Cancer: Data collected at the RSNA 2017 annual meeting/manifest-KTt2tScD7164745271364348431/TCGA-LIHC/\"\n",
    "sorted_path = data_path + \"SORTED-DATA-DCM-JPG/\"\n",
    "# test_path = data_path + \"TEST-DATA/\"\n",
    "\n",
    "class_names = os.listdir(sorted_path)\n",
    "print(class_names)\n",
    "\n",
    "train_dir = 'dj4-train'\n",
    "val_dir = 'dj4-val'\n",
    "\n",
    "for dir_name in [train_dir, val_dir]:\n",
    "    for class_name in class_names:\n",
    "        os.makedirs(os.path.join(data_path, dir_name, class_name), exist_ok=True)\n",
    "\n",
    "for class_name in class_names:\n",
    "    source_dir = os.path.join(sorted_path, class_name)\n",
    "    print(class_name)\n",
    "    for i, file_name in enumerate(os.listdir(source_dir)):\n",
    "        if i % 5 == 0:\n",
    "            dest_dir = os.path.join(data_path, val_dir, class_name)\n",
    "        else:\n",
    "            dest_dir = os.path.join(data_path, train_dir, class_name)\n",
    "        shutil.copy(os.path.join(source_dir, file_name),\n",
    "                    os.path.join(dest_dir, file_name))\n",
    "        try:\n",
    "            if file_name.endswith('.dcm'):\n",
    "                file_name_n = file_name.removesuffix('.dcm') + '.jpg'\n",
    "            elif file_name.endswith('.jpg'):\n",
    "                file_name_n = file_name.removesuffix('.jpg') + '.dcm'\n",
    "            shutil.copy(os.path.join(source_dir, file_name_n),\n",
    "                        os.path.join(dest_dir, file_name_n))\n",
    "        except:\n",
    "            print(f\"File {file_name} missed\")\n"
   ]
  },
  {
   "cell_type": "code",
   "execution_count": null,
   "metadata": {},
   "outputs": [],
   "source": []
  }
 ],
 "metadata": {
  "interpreter": {
   "hash": "36cf16204b8548560b1c020c4e8fb5b57f0e4c58016f52f2d4be01e192833930"
  },
  "kernelspec": {
   "display_name": "Python 3.9.6 64-bit",
   "language": "python",
   "name": "python3"
  },
  "language_info": {
   "codemirror_mode": {
    "name": "ipython",
    "version": 3
   },
   "file_extension": ".py",
   "mimetype": "text/x-python",
   "name": "python",
   "nbconvert_exporter": "python",
   "pygments_lexer": "ipython3",
   "version": "3.9.6"
  },
  "orig_nbformat": 4
 },
 "nbformat": 4,
 "nbformat_minor": 2
}
